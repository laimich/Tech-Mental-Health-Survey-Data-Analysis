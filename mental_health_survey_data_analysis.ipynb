{
 "cells": [
  {
   "cell_type": "code",
   "execution_count": 1,
   "metadata": {},
   "outputs": [],
   "source": [
    "import sqlalchemy\n",
    "import sqlite3\n",
    "\n",
    "import pandas as pd\n",
    "import matplotlib.pyplot as plt\n",
    "import seaborn as sns\n",
    "import numpy as np\n",
    "\n",
    "# engine = sqlalchemy.create_engine('sqlite:///mental_health.sqlite')\n",
    "con = sqlite3.connect(\"mental_health.sqlite\")\n",
    "\n",
    "# load prev installed sql module\n",
    "%load_ext sql\n",
    "%sql sqlite:///mental_health.sqlite"
   ]
  },
  {
   "cell_type": "code",
   "execution_count": 7,
   "metadata": {},
   "outputs": [
    {
     "name": "stdout",
     "output_type": "stream",
     "text": [
      " * sqlite:///mental_health.sqlite\n",
      "Done.\n",
      "Done.\n",
      "Done.\n",
      "Done.\n"
     ]
    },
    {
     "data": {
      "text/plain": [
       "[]"
      ]
     },
     "execution_count": 7,
     "metadata": {},
     "output_type": "execute_result"
    }
   ],
   "source": [
    "%%sql\n",
    "\n",
    "DROP VIEW IF EXISTS AnswerTechEmployer;\n",
    "CREATE VIEW AnswerTechEmployer AS\n",
    "SELECT CAST(Answer.AnswerText AS int) AS TechEmployerAnswer, Answer.UserID\n",
    "FROM Question JOIN Answer ON (Question.QuestionID=Answer.QuestionID)\n",
    "WHERE Question.questiontext=\"Is your employer primarily a tech company/organization?\";\n",
    "\n",
    "DROP VIEW IF EXISTS YesTechEmployer;\n",
    "CREATE VIEW YesTechEmployer AS\n",
    "SELECT UserID\n",
    "FROM AnswerTechEmployer\n",
    "WHERE TechEmployerAnswer=1;"
   ]
  },
  {
   "cell_type": "code",
   "execution_count": 8,
   "metadata": {},
   "outputs": [
    {
     "name": "stdout",
     "output_type": "stream",
     "text": [
      " * sqlite:///mental_health.sqlite\n",
      "Done.\n"
     ]
    },
    {
     "data": {
      "text/html": [
       "<table>\n",
       "    <tr>\n",
       "        <th>UserID</th>\n",
       "    </tr>\n",
       "    <tr>\n",
       "        <td>1</td>\n",
       "    </tr>\n",
       "    <tr>\n",
       "        <td>3</td>\n",
       "    </tr>\n",
       "    <tr>\n",
       "        <td>4</td>\n",
       "    </tr>\n",
       "    <tr>\n",
       "        <td>5</td>\n",
       "    </tr>\n",
       "    <tr>\n",
       "        <td>6</td>\n",
       "    </tr>\n",
       "    <tr>\n",
       "        <td>7</td>\n",
       "    </tr>\n",
       "    <tr>\n",
       "        <td>8</td>\n",
       "    </tr>\n",
       "    <tr>\n",
       "        <td>9</td>\n",
       "    </tr>\n",
       "    <tr>\n",
       "        <td>10</td>\n",
       "    </tr>\n",
       "    <tr>\n",
       "        <td>11</td>\n",
       "    </tr>\n",
       "</table>"
      ],
      "text/plain": [
       "[(1,), (3,), (4,), (5,), (6,), (7,), (8,), (9,), (10,), (11,)]"
      ]
     },
     "execution_count": 8,
     "metadata": {},
     "output_type": "execute_result"
    }
   ],
   "source": [
    "%%sql\n",
    "\n",
    "SELECT * FROM YesTechEmployer\n",
    "LIMIT 10"
   ]
  },
  {
   "cell_type": "code",
   "execution_count": 66,
   "metadata": {},
   "outputs": [
    {
     "data": {
      "text/html": [
       "<div>\n",
       "<style scoped>\n",
       "    .dataframe tbody tr th:only-of-type {\n",
       "        vertical-align: middle;\n",
       "    }\n",
       "\n",
       "    .dataframe tbody tr th {\n",
       "        vertical-align: top;\n",
       "    }\n",
       "\n",
       "    .dataframe thead th {\n",
       "        text-align: right;\n",
       "    }\n",
       "</style>\n",
       "<table border=\"1\" class=\"dataframe\">\n",
       "  <thead>\n",
       "    <tr style=\"text-align: right;\">\n",
       "      <th></th>\n",
       "      <th>Question</th>\n",
       "      <th>Answer</th>\n",
       "      <th>Number of Responses</th>\n",
       "    </tr>\n",
       "  </thead>\n",
       "  <tbody>\n",
       "    <tr>\n",
       "      <th>0</th>\n",
       "      <td>How easy is it for you to take medical leave f...</td>\n",
       "      <td>Don't know</td>\n",
       "      <td>456</td>\n",
       "    </tr>\n",
       "    <tr>\n",
       "      <th>1</th>\n",
       "      <td>How easy is it for you to take medical leave f...</td>\n",
       "      <td>Somewhat easy</td>\n",
       "      <td>219</td>\n",
       "    </tr>\n",
       "    <tr>\n",
       "      <th>2</th>\n",
       "      <td>How easy is it for you to take medical leave f...</td>\n",
       "      <td>Very easy</td>\n",
       "      <td>179</td>\n",
       "    </tr>\n",
       "    <tr>\n",
       "      <th>3</th>\n",
       "      <td>How easy is it for you to take medical leave f...</td>\n",
       "      <td>Somewhat difficult</td>\n",
       "      <td>98</td>\n",
       "    </tr>\n",
       "    <tr>\n",
       "      <th>4</th>\n",
       "      <td>How easy is it for you to take medical leave f...</td>\n",
       "      <td>Very difficult</td>\n",
       "      <td>79</td>\n",
       "    </tr>\n",
       "  </tbody>\n",
       "</table>\n",
       "</div>"
      ],
      "text/plain": [
       "                                            Question              Answer  \\\n",
       "0  How easy is it for you to take medical leave f...          Don't know   \n",
       "1  How easy is it for you to take medical leave f...       Somewhat easy   \n",
       "2  How easy is it for you to take medical leave f...           Very easy   \n",
       "3  How easy is it for you to take medical leave f...  Somewhat difficult   \n",
       "4  How easy is it for you to take medical leave f...      Very difficult   \n",
       "\n",
       "   Number of Responses  \n",
       "0                  456  \n",
       "1                  219  \n",
       "2                  179  \n",
       "3                   98  \n",
       "4                   79  "
      ]
     },
     "execution_count": 66,
     "metadata": {},
     "output_type": "execute_result"
    }
   ],
   "source": [
    "# for employees of tech companies/organizations, how easy it is to take a medical leave for a mental health condition\n",
    "df_query1 = pd.read_sql_query(\"\"\"\n",
    "    SELECT QuestionText AS 'Question', AnswerText AS 'Answer', count(AnswerText) AS 'Number of Responses' \n",
    "    FROM Question JOIN Answer ON (Question.QuestionID=Answer.QuestionID)\n",
    "    WHERE Question.QuestionText IN \n",
    "        (\"How easy is it for you to take medical leave for a mental health condition?\")\n",
    "        AND Answer.UserID IN (SELECT * FROM YesTechEmployer)\n",
    "    GROUP BY Answer.AnswerText\n",
    "    ORDER BY count(AnswerText) DESC\n",
    "    \"\"\", con)\n",
    "\n",
    "df_query1"
   ]
  },
  {
   "cell_type": "code",
   "execution_count": 67,
   "metadata": {},
   "outputs": [
    {
     "data": {
      "text/plain": [
       "Text(0.5,1,'As an employee of a tech company, how easy to take medical leave for a mental health condition?')"
      ]
     },
     "execution_count": 67,
     "metadata": {},
     "output_type": "execute_result"
    },
    {
     "data": {
      "image/png": "[encoded data removed]",
      "text/plain": [
       "<Figure size 432x288 with 1 Axes>"
      ]
     },
     "metadata": {
      "needs_background": "light"
     },
     "output_type": "display_data"
    }
   ],
   "source": [
    "plot_query1 = sns.barplot('Number of Responses', 'Answer', data=df_query1, palette=\"summer\")\n",
    "plot_query1.set_title(\"As an employee of a tech company, how easy to take medical leave for a mental health condition?\")"
   ]
  },
  {
   "cell_type": "code",
   "execution_count": 64,
   "metadata": {},
   "outputs": [
    {
     "data": {
      "text/html": [
       "<div>\n",
       "<style scoped>\n",
       "    .dataframe tbody tr th:only-of-type {\n",
       "        vertical-align: middle;\n",
       "    }\n",
       "\n",
       "    .dataframe tbody tr th {\n",
       "        vertical-align: top;\n",
       "    }\n",
       "\n",
       "    .dataframe thead th {\n",
       "        text-align: right;\n",
       "    }\n",
       "</style>\n",
       "<table border=\"1\" class=\"dataframe\">\n",
       "  <thead>\n",
       "    <tr style=\"text-align: right;\">\n",
       "      <th></th>\n",
       "      <th>AnswerText</th>\n",
       "      <th>TechEmployerAnswer</th>\n",
       "      <th>Count</th>\n",
       "    </tr>\n",
       "  </thead>\n",
       "  <tbody>\n",
       "    <tr>\n",
       "      <th>0</th>\n",
       "      <td>Don't know</td>\n",
       "      <td>1</td>\n",
       "      <td>456</td>\n",
       "    </tr>\n",
       "    <tr>\n",
       "      <th>1</th>\n",
       "      <td>Somewhat easy</td>\n",
       "      <td>1</td>\n",
       "      <td>219</td>\n",
       "    </tr>\n",
       "    <tr>\n",
       "      <th>2</th>\n",
       "      <td>Very easy</td>\n",
       "      <td>1</td>\n",
       "      <td>179</td>\n",
       "    </tr>\n",
       "    <tr>\n",
       "      <th>3</th>\n",
       "      <td>Don't know</td>\n",
       "      <td>0</td>\n",
       "      <td>108</td>\n",
       "    </tr>\n",
       "    <tr>\n",
       "      <th>4</th>\n",
       "      <td>Somewhat difficult</td>\n",
       "      <td>1</td>\n",
       "      <td>98</td>\n",
       "    </tr>\n",
       "    <tr>\n",
       "      <th>5</th>\n",
       "      <td>Very difficult</td>\n",
       "      <td>1</td>\n",
       "      <td>79</td>\n",
       "    </tr>\n",
       "    <tr>\n",
       "      <th>6</th>\n",
       "      <td>Somewhat easy</td>\n",
       "      <td>0</td>\n",
       "      <td>47</td>\n",
       "    </tr>\n",
       "    <tr>\n",
       "      <th>7</th>\n",
       "      <td>Somewhat difficult</td>\n",
       "      <td>0</td>\n",
       "      <td>28</td>\n",
       "    </tr>\n",
       "    <tr>\n",
       "      <th>8</th>\n",
       "      <td>Very easy</td>\n",
       "      <td>0</td>\n",
       "      <td>27</td>\n",
       "    </tr>\n",
       "    <tr>\n",
       "      <th>9</th>\n",
       "      <td>Very difficult</td>\n",
       "      <td>0</td>\n",
       "      <td>19</td>\n",
       "    </tr>\n",
       "  </tbody>\n",
       "</table>\n",
       "</div>"
      ],
      "text/plain": [
       "           AnswerText  TechEmployerAnswer  Count\n",
       "0          Don't know                   1    456\n",
       "1       Somewhat easy                   1    219\n",
       "2           Very easy                   1    179\n",
       "3          Don't know                   0    108\n",
       "4  Somewhat difficult                   1     98\n",
       "5      Very difficult                   1     79\n",
       "6       Somewhat easy                   0     47\n",
       "7  Somewhat difficult                   0     28\n",
       "8           Very easy                   0     27\n",
       "9      Very difficult                   0     19"
      ]
     },
     "execution_count": 64,
     "metadata": {},
     "output_type": "execute_result"
    }
   ],
   "source": [
    "df_query1b = pd.read_sql_query(\"\"\"\n",
    "    SELECT AnswerText, TechEmployerAnswer, count(AnswerText) AS Count\n",
    "    FROM Question JOIN Answer ON (Question.QuestionID=Answer.QuestionID)\n",
    "        JOIN AnswerTechEmployer ON (AnswerTechEmployer.UserID=Answer.UserID)\n",
    "    WHERE Question.QuestionText IN \n",
    "            (\"How easy is it for you to take medical leave for a mental health condition?\")\n",
    "    GROUP BY AnswerText, TechEmployerAnswer\n",
    "    HAVING Count>10\n",
    "    ORDER BY Count DESC\n",
    "    \"\"\", con)\n",
    "\n",
    "df_query1b"
   ]
  },
  {
   "cell_type": "code",
   "execution_count": 72,
   "metadata": {},
   "outputs": [
    {
     "data": {
      "image/png": "[encoded data removed]",
      "text/plain": [
       "<Figure size 432x288 with 1 Axes>"
      ]
     },
     "metadata": {
      "needs_background": "light"
     },
     "output_type": "display_data"
    }
   ],
   "source": [
    "plot_query1b = sns.barplot('Count', 'AnswerText', hue='TechEmployerAnswer', data=df_query1b, palette=\"summer\")\n",
    "\n",
    "plot_query1b.set_title(\"How easy is it to take medical leave for a mental health condition?\")\n",
    "plot_query1b.set_ylabel('Ease Level')\n",
    "# change legend\n",
    "legend = plot_query1b.get_legend()\n",
    "legend.set_title('Tech Employer?')\n",
    "labels = ['No', 'Yes']\n",
    "for t, l in zip(legend.texts, labels): t.set_text(l)"
   ]
  },
  {
   "cell_type": "code",
   "execution_count": 69,
   "metadata": {},
   "outputs": [
    {
     "data": {
      "image/png": "[encoded data removed]",
      "text/plain": [
       "<Figure size 432x288 with 1 Axes>"
      ]
     },
     "metadata": {
      "needs_background": "light"
     },
     "output_type": "display_data"
    }
   ],
   "source": [
    "df_query1c = df_query1b[df_query1b['AnswerText'] != 'Don\\'t know']\n",
    "\n",
    "plot_query1c = sns.barplot('Count', 'AnswerText', hue='TechEmployerAnswer', data=df_query1c, palette=\"summer\")\n",
    "\n",
    "plot_query1c.set_title(\"How easy is it to take medical leave for a mental health condition?\")\n",
    "plot_query1c.set_ylabel('Ease Level')\n",
    "# change legend\n",
    "legend = plot_query1c.get_legend()\n",
    "legend.set_title('Tech Employer?')\n",
    "labels = ['No', 'Yes']\n",
    "for t, l in zip(legend.texts, labels): t.set_text(l)"
   ]
  },
  {
   "cell_type": "code",
   "execution_count": 92,
   "metadata": {},
   "outputs": [
    {
     "data": {
      "text/html": [
       "<div>\n",
       "<style scoped>\n",
       "    .dataframe tbody tr th:only-of-type {\n",
       "        vertical-align: middle;\n",
       "    }\n",
       "\n",
       "    .dataframe tbody tr th {\n",
       "        vertical-align: top;\n",
       "    }\n",
       "\n",
       "    .dataframe thead th {\n",
       "        text-align: right;\n",
       "    }\n",
       "</style>\n",
       "<table border=\"1\" class=\"dataframe\">\n",
       "  <thead>\n",
       "    <tr style=\"text-align: right;\">\n",
       "      <th></th>\n",
       "      <th>Question</th>\n",
       "      <th>Answer</th>\n",
       "      <th>Number of Responses</th>\n",
       "    </tr>\n",
       "  </thead>\n",
       "  <tbody>\n",
       "    <tr>\n",
       "      <th>0</th>\n",
       "      <td>Do you think that discussing a mental health i...</td>\n",
       "      <td>Maybe</td>\n",
       "      <td>376</td>\n",
       "    </tr>\n",
       "    <tr>\n",
       "      <th>1</th>\n",
       "      <td>Do you think that discussing a mental health i...</td>\n",
       "      <td>No</td>\n",
       "      <td>430</td>\n",
       "    </tr>\n",
       "    <tr>\n",
       "      <th>2</th>\n",
       "      <td>Do you think that discussing a mental health i...</td>\n",
       "      <td>Yes</td>\n",
       "      <td>225</td>\n",
       "    </tr>\n",
       "  </tbody>\n",
       "</table>\n",
       "</div>"
      ],
      "text/plain": [
       "                                            Question Answer  \\\n",
       "0  Do you think that discussing a mental health i...  Maybe   \n",
       "1  Do you think that discussing a mental health i...     No   \n",
       "2  Do you think that discussing a mental health i...    Yes   \n",
       "\n",
       "   Number of Responses  \n",
       "0                  376  \n",
       "1                  430  \n",
       "2                  225  "
      ]
     },
     "execution_count": 92,
     "metadata": {},
     "output_type": "execute_result"
    }
   ],
   "source": [
    "# for employees of tech companies/organizations, \n",
    "#     do you think discussing a mental health issue with your employer would have negative consequences?\n",
    "df_query2 = pd.read_sql_query(\"\"\"\n",
    "    SELECT QuestionText AS 'Question', AnswerText AS 'Answer', count(AnswerText) AS 'Number of Responses' \n",
    "    FROM Question JOIN Answer ON (Question.QuestionID=Answer.QuestionID)\n",
    "    WHERE Question.QuestionText IN \n",
    "            (\"Do you think that discussing a mental health issue with your employer would have negative consequences?\")\n",
    "        AND Answer.UserID IN (SELECT * FROM YesTechEmployer)\n",
    "    GROUP BY Answer.AnswerText\n",
    "    \"\"\", con)\n",
    "\n",
    "df_query2"
   ]
  },
  {
   "cell_type": "code",
   "execution_count": 94,
   "metadata": {},
   "outputs": [
    {
     "data": {
      "text/plain": [
       "Text(0.5,1,'Do you think discussing mental health issues with your tech employer would have negative consequences?')"
      ]
     },
     "execution_count": 94,
     "metadata": {},
     "output_type": "execute_result"
    },
    {
     "data": {
      "image/png": "[encoded data removed]",
      "text/plain": [
       "<Figure size 432x288 with 1 Axes>"
      ]
     },
     "metadata": {
      "needs_background": "light"
     },
     "output_type": "display_data"
    }
   ],
   "source": [
    "plot_query2 = sns.barplot('Number of Responses', 'Answer', data=df_query2, palette=\"autumn_d\")\n",
    "plot_query2.set_title(\"Do you think discussing mental health issues with your tech employer would have negative consequences?\")"
   ]
  }
 ],
 "metadata": {
  "kernelspec": {
   "display_name": "Python 3",
   "language": "python",
   "name": "python3"
  },
  "language_info": {
   "codemirror_mode": {
    "name": "ipython",
    "version": 3
   },
   "file_extension": ".py",
   "mimetype": "text/x-python",
   "name": "python",
   "nbconvert_exporter": "python",
   "pygments_lexer": "ipython3",
   "version": "3.6.4"
  }
 },
 "nbformat": 4,
 "nbformat_minor": 2
}
