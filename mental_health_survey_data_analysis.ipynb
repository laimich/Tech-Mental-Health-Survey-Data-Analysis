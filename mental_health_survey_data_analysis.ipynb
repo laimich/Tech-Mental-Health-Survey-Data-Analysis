{
 "cells": [
  {
   "cell_type": "code",
   "execution_count": 1,
   "metadata": {},
   "outputs": [],
   "source": [
    "import sqlalchemy\n",
    "import sqlite3\n",
    "\n",
    "import pandas as pd\n",
    "import matplotlib.pyplot as plt\n",
    "import seaborn as sns\n",
    "import numpy as np\n",
    "\n",
    "# engine = sqlalchemy.create_engine('sqlite:///mental_health.sqlite')\n",
    "con = sqlite3.connect(\"mental_health.sqlite\")\n",
    "\n",
    "# load prev installed sql module\n",
    "%load_ext sql\n",
    "%sql sqlite:///mental_health.sqlite"
   ]
  },
  {
   "cell_type": "code",
   "execution_count": 133,
   "metadata": {},
   "outputs": [
    {
     "name": "stdout",
     "output_type": "stream",
     "text": [
      " * sqlite:///mental_health.sqlite\n",
      "Done.\n",
      "Done.\n",
      "Done.\n",
      "Done.\n"
     ]
    },
    {
     "data": {
      "text/plain": [
       "[]"
      ]
     },
     "execution_count": 133,
     "metadata": {},
     "output_type": "execute_result"
    }
   ],
   "source": [
    "%%sql\n",
    "\n",
    "DROP VIEW IF EXISTS YesTechEmployer;\n",
    "CREATE VIEW YesTechEmployer AS\n",
    "SELECT Answer.UserID\n",
    "FROM Question JOIN Answer ON (Question.QuestionID=Answer.QuestionID)\n",
    "WHERE Question.questiontext=\"Is your employer primarily a tech company/organization?\" \n",
    "    AND Answer.AnswerText=1;\n",
    "    \n",
    "    \n",
    "DROP VIEW IF EXISTS AnswerTechEmployer;\n",
    "CREATE VIEW AnswerTechEmployer AS\n",
    "SELECT CAST(Answer.AnswerText AS int) AS TechEmployerAnswer, Answer.UserID\n",
    "FROM Question JOIN Answer ON (Question.QuestionID=Answer.QuestionID)\n",
    "WHERE Question.questiontext=\"Is your employer primarily a tech company/organization?\";"
   ]
  },
  {
   "cell_type": "code",
   "execution_count": 2,
   "metadata": {},
   "outputs": [
    {
     "name": "stdout",
     "output_type": "stream",
     "text": [
      " * sqlite:///mental_health.sqlite\n",
      "Done.\n"
     ]
    },
    {
     "data": {
      "text/html": [
       "<table>\n",
       "    <tr>\n",
       "        <th>TechEmployerAnswer</th>\n",
       "        <th>UserID</th>\n",
       "    </tr>\n",
       "    <tr>\n",
       "        <td>-1</td>\n",
       "        <td>1264</td>\n",
       "    </tr>\n",
       "    <tr>\n",
       "        <td>-1</td>\n",
       "        <td>1270</td>\n",
       "    </tr>\n",
       "    <tr>\n",
       "        <td>-1</td>\n",
       "        <td>1279</td>\n",
       "    </tr>\n",
       "    <tr>\n",
       "        <td>-1</td>\n",
       "        <td>1285</td>\n",
       "    </tr>\n",
       "    <tr>\n",
       "        <td>-1</td>\n",
       "        <td>1294</td>\n",
       "    </tr>\n",
       "    <tr>\n",
       "        <td>-1</td>\n",
       "        <td>1301</td>\n",
       "    </tr>\n",
       "    <tr>\n",
       "        <td>-1</td>\n",
       "        <td>1304</td>\n",
       "    </tr>\n",
       "    <tr>\n",
       "        <td>-1</td>\n",
       "        <td>1307</td>\n",
       "    </tr>\n",
       "    <tr>\n",
       "        <td>-1</td>\n",
       "        <td>1309</td>\n",
       "    </tr>\n",
       "    <tr>\n",
       "        <td>-1</td>\n",
       "        <td>1313</td>\n",
       "    </tr>\n",
       "</table>"
      ],
      "text/plain": [
       "[(-1, 1264),\n",
       " (-1, 1270),\n",
       " (-1, 1279),\n",
       " (-1, 1285),\n",
       " (-1, 1294),\n",
       " (-1, 1301),\n",
       " (-1, 1304),\n",
       " (-1, 1307),\n",
       " (-1, 1309),\n",
       " (-1, 1313)]"
      ]
     },
     "execution_count": 2,
     "metadata": {},
     "output_type": "execute_result"
    }
   ],
   "source": [
    "%%sql\n",
    "\n",
    "SELECT * FROM AnswerTechEmployer\n",
    "LIMIT 10"
   ]
  },
  {
   "cell_type": "code",
   "execution_count": 178,
   "metadata": {},
   "outputs": [
    {
     "data": {
      "text/html": [
       "<div>\n",
       "<style scoped>\n",
       "    .dataframe tbody tr th:only-of-type {\n",
       "        vertical-align: middle;\n",
       "    }\n",
       "\n",
       "    .dataframe tbody tr th {\n",
       "        vertical-align: top;\n",
       "    }\n",
       "\n",
       "    .dataframe thead th {\n",
       "        text-align: right;\n",
       "    }\n",
       "</style>\n",
       "<table border=\"1\" class=\"dataframe\">\n",
       "  <thead>\n",
       "    <tr style=\"text-align: right;\">\n",
       "      <th></th>\n",
       "      <th>Question</th>\n",
       "      <th>Answer</th>\n",
       "      <th>Number of Responses</th>\n",
       "    </tr>\n",
       "  </thead>\n",
       "  <tbody>\n",
       "    <tr>\n",
       "      <th>0</th>\n",
       "      <td>How easy is it for you to take medical leave f...</td>\n",
       "      <td>Somewhat easy</td>\n",
       "      <td>219</td>\n",
       "    </tr>\n",
       "    <tr>\n",
       "      <th>1</th>\n",
       "      <td>How easy is it for you to take medical leave f...</td>\n",
       "      <td>Very easy</td>\n",
       "      <td>179</td>\n",
       "    </tr>\n",
       "    <tr>\n",
       "      <th>2</th>\n",
       "      <td>How easy is it for you to take medical leave f...</td>\n",
       "      <td>Somewhat difficult</td>\n",
       "      <td>98</td>\n",
       "    </tr>\n",
       "    <tr>\n",
       "      <th>3</th>\n",
       "      <td>How easy is it for you to take medical leave f...</td>\n",
       "      <td>Very difficult</td>\n",
       "      <td>79</td>\n",
       "    </tr>\n",
       "  </tbody>\n",
       "</table>\n",
       "</div>"
      ],
      "text/plain": [
       "                                            Question              Answer  \\\n",
       "0  How easy is it for you to take medical leave f...       Somewhat easy   \n",
       "1  How easy is it for you to take medical leave f...           Very easy   \n",
       "2  How easy is it for you to take medical leave f...  Somewhat difficult   \n",
       "3  How easy is it for you to take medical leave f...      Very difficult   \n",
       "\n",
       "   Number of Responses  \n",
       "0                  219  \n",
       "1                  179  \n",
       "2                   98  \n",
       "3                   79  "
      ]
     },
     "execution_count": 178,
     "metadata": {},
     "output_type": "execute_result"
    }
   ],
   "source": [
    "# for employees of tech companies/organizations, how easy it is to take a medical leave for a mental health condition\n",
    "df_query1 = pd.read_sql_query(\"\"\"\n",
    "    SELECT QuestionText AS 'Question', AnswerText AS 'Answer', count(AnswerText) AS 'Number of Responses' \n",
    "    FROM Question JOIN Answer ON (Question.QuestionID=Answer.QuestionID)\n",
    "    WHERE Question.QuestionText IN \n",
    "        (\"How easy is it for you to take medical leave for a mental health condition?\")\n",
    "        AND Answer.UserID IN (SELECT * FROM YesTechEmployer)\n",
    "        AND AnswerText NOT LIKE '%don%t know%'\n",
    "    GROUP BY Answer.AnswerText\n",
    "    ORDER BY count(AnswerText) DESC\n",
    "    \"\"\", con)\n",
    "\n",
    "df_query1"
   ]
  },
  {
   "cell_type": "code",
   "execution_count": 180,
   "metadata": {},
   "outputs": [
    {
     "data": {
      "text/plain": [
       "Text(0.5,1,'As an employee of a tech company, how easy to take medical leave for a mental health condition?')"
      ]
     },
     "execution_count": 180,
     "metadata": {},
     "output_type": "execute_result"
    },
    {
     "data": {
      "image/png": "[encoded data removed]",
      "text/plain": [
       "<Figure size 432x288 with 1 Axes>"
      ]
     },
     "metadata": {
      "needs_background": "light"
     },
     "output_type": "display_data"
    }
   ],
   "source": [
    "plot_query1 = sns.barplot('Number of Responses', 'Answer', data=df_query1, palette=\"summer\")\n",
    "plot_query1.set_title(\"As an employee of a tech company, how easy to take medical leave for a mental health condition?\")"
   ]
  },
  {
   "cell_type": "code",
   "execution_count": 181,
   "metadata": {},
   "outputs": [
    {
     "data": {
      "text/html": [
       "<div>\n",
       "<style scoped>\n",
       "    .dataframe tbody tr th:only-of-type {\n",
       "        vertical-align: middle;\n",
       "    }\n",
       "\n",
       "    .dataframe tbody tr th {\n",
       "        vertical-align: top;\n",
       "    }\n",
       "\n",
       "    .dataframe thead th {\n",
       "        text-align: right;\n",
       "    }\n",
       "</style>\n",
       "<table border=\"1\" class=\"dataframe\">\n",
       "  <thead>\n",
       "    <tr style=\"text-align: right;\">\n",
       "      <th></th>\n",
       "      <th>EaseMedicalLeave</th>\n",
       "      <th>TechEmployerAnswer</th>\n",
       "      <th>Count</th>\n",
       "    </tr>\n",
       "  </thead>\n",
       "  <tbody>\n",
       "    <tr>\n",
       "      <th>0</th>\n",
       "      <td>Difficult</td>\n",
       "      <td>0</td>\n",
       "      <td>43</td>\n",
       "    </tr>\n",
       "    <tr>\n",
       "      <th>1</th>\n",
       "      <td>Difficult</td>\n",
       "      <td>1</td>\n",
       "      <td>69</td>\n",
       "    </tr>\n",
       "    <tr>\n",
       "      <th>2</th>\n",
       "      <td>Neither easy nor difficult</td>\n",
       "      <td>0</td>\n",
       "      <td>99</td>\n",
       "    </tr>\n",
       "    <tr>\n",
       "      <th>3</th>\n",
       "      <td>Neither easy nor difficult</td>\n",
       "      <td>1</td>\n",
       "      <td>245</td>\n",
       "    </tr>\n",
       "    <tr>\n",
       "      <th>4</th>\n",
       "      <td>Somewhat difficult</td>\n",
       "      <td>0</td>\n",
       "      <td>136</td>\n",
       "    </tr>\n",
       "    <tr>\n",
       "      <th>5</th>\n",
       "      <td>Somewhat difficult</td>\n",
       "      <td>1</td>\n",
       "      <td>348</td>\n",
       "    </tr>\n",
       "    <tr>\n",
       "      <th>6</th>\n",
       "      <td>Somewhat easy</td>\n",
       "      <td>0</td>\n",
       "      <td>47</td>\n",
       "    </tr>\n",
       "    <tr>\n",
       "      <th>7</th>\n",
       "      <td>Somewhat easy</td>\n",
       "      <td>1</td>\n",
       "      <td>219</td>\n",
       "    </tr>\n",
       "    <tr>\n",
       "      <th>8</th>\n",
       "      <td>Very difficult</td>\n",
       "      <td>0</td>\n",
       "      <td>57</td>\n",
       "    </tr>\n",
       "    <tr>\n",
       "      <th>9</th>\n",
       "      <td>Very difficult</td>\n",
       "      <td>1</td>\n",
       "      <td>159</td>\n",
       "    </tr>\n",
       "    <tr>\n",
       "      <th>10</th>\n",
       "      <td>Very easy</td>\n",
       "      <td>0</td>\n",
       "      <td>27</td>\n",
       "    </tr>\n",
       "    <tr>\n",
       "      <th>11</th>\n",
       "      <td>Very easy</td>\n",
       "      <td>1</td>\n",
       "      <td>179</td>\n",
       "    </tr>\n",
       "  </tbody>\n",
       "</table>\n",
       "</div>"
      ],
      "text/plain": [
       "              EaseMedicalLeave  TechEmployerAnswer  Count\n",
       "0                    Difficult                   0     43\n",
       "1                    Difficult                   1     69\n",
       "2   Neither easy nor difficult                   0     99\n",
       "3   Neither easy nor difficult                   1    245\n",
       "4           Somewhat difficult                   0    136\n",
       "5           Somewhat difficult                   1    348\n",
       "6                Somewhat easy                   0     47\n",
       "7                Somewhat easy                   1    219\n",
       "8               Very difficult                   0     57\n",
       "9               Very difficult                   1    159\n",
       "10                   Very easy                   0     27\n",
       "11                   Very easy                   1    179"
      ]
     },
     "execution_count": 181,
     "metadata": {},
     "output_type": "execute_result"
    }
   ],
   "source": [
    "df_query1b = pd.read_sql_query(\"\"\"\n",
    "    SELECT AnswerText AS EaseMedicalLeave, TechEmployerAnswer, count(AnswerText) AS Count\n",
    "    FROM Question JOIN Answer ON (Question.QuestionID=Answer.QuestionID)\n",
    "    JOIN AnswerTechEmployer ON (AnswerTechEmployer.UserID=Answer.UserID)\n",
    "    WHERE Question.QuestionText IN \n",
    "            (\"How easy is it for you to take medical leave for a mental health condition?\")\n",
    "        AND AnswerText LIKE '%easy' \n",
    "        OR AnswerText LIKE '%difficult'\n",
    "        GROUP BY AnswerText, TechEmployerAnswer\n",
    "        HAVING Count>10\n",
    "    \"\"\", con)\n",
    "\n",
    "df_query1b"
   ]
  },
  {
   "cell_type": "code",
   "execution_count": 182,
   "metadata": {},
   "outputs": [
    {
     "data": {
      "image/png": "[encoded data removed]",
      "text/plain": [
       "<Figure size 432x288 with 1 Axes>"
      ]
     },
     "metadata": {
      "needs_background": "light"
     },
     "output_type": "display_data"
    }
   ],
   "source": [
    "plot_query1b = sns.barplot('Count', 'EaseMedicalLeave', hue='TechEmployerAnswer', data=df_query1b, palette=\"summer\")"
   ]
  },
  {
   "cell_type": "code",
   "execution_count": 92,
   "metadata": {},
   "outputs": [
    {
     "data": {
      "text/html": [
       "<div>\n",
       "<style scoped>\n",
       "    .dataframe tbody tr th:only-of-type {\n",
       "        vertical-align: middle;\n",
       "    }\n",
       "\n",
       "    .dataframe tbody tr th {\n",
       "        vertical-align: top;\n",
       "    }\n",
       "\n",
       "    .dataframe thead th {\n",
       "        text-align: right;\n",
       "    }\n",
       "</style>\n",
       "<table border=\"1\" class=\"dataframe\">\n",
       "  <thead>\n",
       "    <tr style=\"text-align: right;\">\n",
       "      <th></th>\n",
       "      <th>Question</th>\n",
       "      <th>Answer</th>\n",
       "      <th>Number of Responses</th>\n",
       "    </tr>\n",
       "  </thead>\n",
       "  <tbody>\n",
       "    <tr>\n",
       "      <th>0</th>\n",
       "      <td>Do you think that discussing a mental health i...</td>\n",
       "      <td>Maybe</td>\n",
       "      <td>376</td>\n",
       "    </tr>\n",
       "    <tr>\n",
       "      <th>1</th>\n",
       "      <td>Do you think that discussing a mental health i...</td>\n",
       "      <td>No</td>\n",
       "      <td>430</td>\n",
       "    </tr>\n",
       "    <tr>\n",
       "      <th>2</th>\n",
       "      <td>Do you think that discussing a mental health i...</td>\n",
       "      <td>Yes</td>\n",
       "      <td>225</td>\n",
       "    </tr>\n",
       "  </tbody>\n",
       "</table>\n",
       "</div>"
      ],
      "text/plain": [
       "                                            Question Answer  \\\n",
       "0  Do you think that discussing a mental health i...  Maybe   \n",
       "1  Do you think that discussing a mental health i...     No   \n",
       "2  Do you think that discussing a mental health i...    Yes   \n",
       "\n",
       "   Number of Responses  \n",
       "0                  376  \n",
       "1                  430  \n",
       "2                  225  "
      ]
     },
     "execution_count": 92,
     "metadata": {},
     "output_type": "execute_result"
    }
   ],
   "source": [
    "# for employees of tech companies/organizations, \n",
    "#     do you think discussing a mental health issue with your employer would have negative consequences?\n",
    "df_query2 = pd.read_sql_query(\"\"\"\n",
    "    SELECT QuestionText AS 'Question', AnswerText AS 'Answer', count(AnswerText) AS 'Number of Responses' \n",
    "    FROM Question JOIN Answer ON (Question.QuestionID=Answer.QuestionID)\n",
    "    WHERE Question.QuestionText IN \n",
    "        (\"Do you think that discussing a mental health issue with your employer would have negative consequences?\")\n",
    "        AND Answer.UserID IN (SELECT * FROM YesTechEmployer)\n",
    "    GROUP BY Answer.AnswerText\n",
    "    \"\"\", con)\n",
    "\n",
    "df_query2"
   ]
  },
  {
   "cell_type": "code",
   "execution_count": 94,
   "metadata": {},
   "outputs": [
    {
     "data": {
      "text/plain": [
       "Text(0.5,1,'Do you think discussing mental health issues with your tech employer would have negative consequences?')"
      ]
     },
     "execution_count": 94,
     "metadata": {},
     "output_type": "execute_result"
    },
    {
     "data": {
      "image/png": "[encoded data removed]",
      "text/plain": [
       "<Figure size 432x288 with 1 Axes>"
      ]
     },
     "metadata": {
      "needs_background": "light"
     },
     "output_type": "display_data"
    }
   ],
   "source": [
    "plot_query2 = sns.barplot('Number of Responses', 'Answer', data=df_query2, palette=\"autumn_d\")\n",
    "plot_query2.set_title(\"Do you think discussing mental health issues with your tech employer would have negative consequences?\")"
   ]
  }
 ],
 "metadata": {
  "kernelspec": {
   "display_name": "Python 3",
   "language": "python",
   "name": "python3"
  },
  "language_info": {
   "codemirror_mode": {
    "name": "ipython",
    "version": 3
   },
   "file_extension": ".py",
   "mimetype": "text/x-python",
   "name": "python",
   "nbconvert_exporter": "python",
   "pygments_lexer": "ipython3",
   "version": "3.6.4"
  }
 },
 "nbformat": 4,
 "nbformat_minor": 2
}
